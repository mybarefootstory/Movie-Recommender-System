{
 "cells": [
  {
   "cell_type": "code",
   "execution_count": null,
   "id": "b5381730-290d-4f94-b929-c7aeea75bc51",
   "metadata": {},
   "outputs": [],
   "source": [
    "import numpy as np"
   ]
  },
  {
   "cell_type": "code",
   "execution_count": null,
   "id": "b74bf54b-4d17-4dc5-98db-303f8de57cb2",
   "metadata": {},
   "outputs": [],
   "source": [
    "import pandas as pd"
   ]
  },
  {
   "cell_type": "code",
   "execution_count": null,
   "id": "84d83c30-cc0c-46b7-a789-ca93a14e9b9a",
   "metadata": {},
   "outputs": [],
   "source": [
    "movies = pd.read_csv('tmdb_5000_movies.csv')\n",
    "credits = pd.read_csv('tmdb_5000_credits.csv')"
   ]
  },
  {
   "cell_type": "code",
   "execution_count": null,
   "id": "1c048096-7be2-489d-835b-816793304cd8",
   "metadata": {},
   "outputs": [],
   "source": [
    "movies.head()"
   ]
  },
  {
   "cell_type": "code",
   "execution_count": null,
   "id": "1dc5a8c4-db39-4cca-8c0f-0e930dabca47",
   "metadata": {},
   "outputs": [],
   "source": [
    "movies.shape"
   ]
  },
  {
   "cell_type": "code",
   "execution_count": null,
   "id": "1221b2ad-333c-4588-b172-6eb3ce731a97",
   "metadata": {},
   "outputs": [],
   "source": [
    "credits.head()"
   ]
  },
  {
   "cell_type": "code",
   "execution_count": null,
   "id": "d70d3342-621d-4a4e-b6ed-cbb806419a75",
   "metadata": {},
   "outputs": [],
   "source": [
    "movies.head(1)"
   ]
  },
  {
   "cell_type": "code",
   "execution_count": null,
   "id": "6a60e58c-047a-4d38-bee3-326e3bf8f764",
   "metadata": {},
   "outputs": [],
   "source": [
    "credits.head(1)"
   ]
  },
  {
   "cell_type": "code",
   "execution_count": null,
   "id": "8b7a0917-1862-45d6-b781-dfc3b663b1fc",
   "metadata": {},
   "outputs": [],
   "source": [
    "credits.head(1)['crew'].values"
   ]
  },
  {
   "cell_type": "code",
   "execution_count": null,
   "id": "8d37916e-a5a6-4490-8b23-6ed95ccd0953",
   "metadata": {},
   "outputs": [],
   "source": [
    "movies = movies.merge(credits,on='title')"
   ]
  },
  {
   "cell_type": "code",
   "execution_count": null,
   "id": "aeb96877-8d34-49b1-aad1-e17eb17e977e",
   "metadata": {},
   "outputs": [],
   "source": [
    "movies.info()"
   ]
  },
  {
   "cell_type": "code",
   "execution_count": null,
   "id": "a96a9aa6-9d36-4ff1-8d79-a9e96dab5559",
   "metadata": {},
   "outputs": [],
   "source": [
    "movies = movies[['movie_id','title','overview','genres','keywords','cast','crew']]"
   ]
  },
  {
   "cell_type": "code",
   "execution_count": null,
   "id": "867e56d2-c33c-4548-a514-b7bb664b4dd7",
   "metadata": {},
   "outputs": [],
   "source": [
    "movies.head()"
   ]
  },
  {
   "cell_type": "code",
   "execution_count": null,
   "id": "bd66486d-726a-4cd2-ae1c-5c99683b3a0d",
   "metadata": {},
   "outputs": [],
   "source": [
    "movies.isnull().sum()"
   ]
  },
  {
   "cell_type": "code",
   "execution_count": null,
   "id": "3c843089-46b9-4e9a-8da3-62ed3148ccae",
   "metadata": {},
   "outputs": [],
   "source": [
    "movies.dropna(inplace = True)"
   ]
  },
  {
   "cell_type": "code",
   "execution_count": null,
   "id": "2a307619-12a5-4f0c-9790-303177031aba",
   "metadata": {},
   "outputs": [],
   "source": [
    "movies.duplicated().sum()"
   ]
  },
  {
   "cell_type": "code",
   "execution_count": null,
   "id": "164a77ce-9bba-4e36-94e8-12cae9b9ed5a",
   "metadata": {},
   "outputs": [],
   "source": [
    "movies.iloc[0].genres"
   ]
  },
  {
   "cell_type": "code",
   "execution_count": null,
   "id": "bba4a375-cf52-4e70-a8f7-975f98015bdf",
   "metadata": {},
   "outputs": [],
   "source": [
    "def convert(obj):\n",
    "    L=[]\n",
    "    for i in ast.literal_eval(obj):\n",
    "        L.append(i['name'])\n",
    "    return L"
   ]
  },
  {
   "cell_type": "code",
   "execution_count": null,
   "id": "c059e2ad-4f83-445c-8b95-40e770d6ad51",
   "metadata": {},
   "outputs": [],
   "source": [
    "import ast"
   ]
  },
  {
   "cell_type": "code",
   "execution_count": null,
   "id": "6a79ad41-200c-4431-83fc-3f009344d08d",
   "metadata": {},
   "outputs": [],
   "source": [
    "movies['genres'] = movies['genres'].apply(convert)"
   ]
  },
  {
   "cell_type": "code",
   "execution_count": null,
   "id": "282e6d64-c610-473b-9055-5aff672bf38f",
   "metadata": {},
   "outputs": [],
   "source": [
    "movies.head()"
   ]
  },
  {
   "cell_type": "code",
   "execution_count": null,
   "id": "befbe898-4dec-47bc-9ad0-e2b33866b879",
   "metadata": {},
   "outputs": [],
   "source": [
    "movies['keywords'] = movies['keywords'].apply(convert)"
   ]
  },
  {
   "cell_type": "code",
   "execution_count": null,
   "id": "f4eaddb3-7518-4b9c-9f5f-706690327aa3",
   "metadata": {},
   "outputs": [],
   "source": [
    "def convert3(obj):\n",
    "    L=[]\n",
    "    count = 0\n",
    "    for i in ast.literal_eval(obj):\n",
    "        if count!=3:\n",
    "            L.append(i['name'])\n",
    "            count+=1\n",
    "        else:\n",
    "            break\n",
    "    return L"
   ]
  },
  {
   "cell_type": "code",
   "execution_count": null,
   "id": "5c136201-d3df-408e-a676-3fa3a0edf48a",
   "metadata": {},
   "outputs": [],
   "source": [
    "movies['cast'] = movies['cast'].apply(convert3)"
   ]
  },
  {
   "cell_type": "code",
   "execution_count": null,
   "id": "405129c5-a692-4d87-90de-cdcaab61f693",
   "metadata": {},
   "outputs": [],
   "source": [
    "movies['crew'][0]"
   ]
  },
  {
   "cell_type": "code",
   "execution_count": null,
   "id": "e4efb2ea-0f77-4512-a049-58f8a9a4fa94",
   "metadata": {},
   "outputs": [],
   "source": [
    "def fetch_director(obj):\n",
    "    L=[]\n",
    "    for i in ast.literal_eval(obj):\n",
    "        if i['job'] == 'Director':\n",
    "            L.append(i['name'])\n",
    "            break\n",
    "    return L"
   ]
  },
  {
   "cell_type": "code",
   "execution_count": null,
   "id": "8a055774-211f-4a3d-99a2-979f55e5aa11",
   "metadata": {},
   "outputs": [],
   "source": [
    "movies['crew'] = movies['crew'].apply(fetch_director)"
   ]
  },
  {
   "cell_type": "code",
   "execution_count": null,
   "id": "51733169-94dd-429b-b5fd-27d6c25a2b90",
   "metadata": {},
   "outputs": [],
   "source": [
    "type(movies.iloc[0].overview)"
   ]
  },
  {
   "cell_type": "code",
   "execution_count": null,
   "id": "976c61a0-6b7b-4a33-95ce-ba022dcbdaaf",
   "metadata": {},
   "outputs": [],
   "source": [
    "movies['overview'] = movies['overview'].apply(lambda x:x.split())"
   ]
  },
  {
   "cell_type": "code",
   "execution_count": null,
   "id": "57b7decd-c0f9-497c-98b0-053a330197a7",
   "metadata": {},
   "outputs": [],
   "source": [
    "movies.head(1)"
   ]
  },
  {
   "cell_type": "code",
   "execution_count": null,
   "id": "06cd0339-98f4-47a4-95ff-e80881394558",
   "metadata": {},
   "outputs": [],
   "source": [
    "movies['genres'] = movies['genres'].apply(lambda x:[i.replace(\" \",\"\") for i in x])"
   ]
  },
  {
   "cell_type": "code",
   "execution_count": null,
   "id": "c3ef9e25-73ec-43f8-b4d3-4a7a6d4eb444",
   "metadata": {},
   "outputs": [],
   "source": [
    "movies['keywords'] = movies['keywords'].apply(lambda x:[i.replace(\" \",\"\") for i in x])"
   ]
  },
  {
   "cell_type": "code",
   "execution_count": null,
   "id": "b68d9bcc-c456-45bd-b757-f1ff70fbca63",
   "metadata": {},
   "outputs": [],
   "source": [
    "movies['cast'] = movies['cast'].apply(lambda x:[i.replace(\" \",\"\") for i in x])"
   ]
  },
  {
   "cell_type": "code",
   "execution_count": null,
   "id": "01a035b7-7700-4f2f-bce0-b1a4caea64c8",
   "metadata": {},
   "outputs": [],
   "source": [
    "movies['crew'] = movies['crew'].apply(lambda x:[i.replace(\" \",\"\") for i in x])"
   ]
  },
  {
   "cell_type": "code",
   "execution_count": null,
   "id": "8fc54b80-e689-48d6-bf13-8879841c7a21",
   "metadata": {},
   "outputs": [],
   "source": [
    "movies.head()"
   ]
  },
  {
   "cell_type": "code",
   "execution_count": null,
   "id": "07637b1f-83de-446c-8236-1d21bf4775e4",
   "metadata": {},
   "outputs": [],
   "source": [
    "movies['tags'] = movies['overview'] + movies['genres'] + movies['keywords'] + movies['cast'] + movies['crew']"
   ]
  },
  {
   "cell_type": "code",
   "execution_count": null,
   "id": "21a370c7-300c-45fd-a03f-d5a9a1d49ed1",
   "metadata": {},
   "outputs": [],
   "source": [
    "movies = movies.drop(columns=['overview','genres','keywords','cast','crew'])"
   ]
  },
  {
   "cell_type": "code",
   "execution_count": null,
   "id": "8672b18f-f482-42a7-8f2a-15294495c223",
   "metadata": {},
   "outputs": [],
   "source": [
    "movies.head()"
   ]
  },
  {
   "cell_type": "code",
   "execution_count": null,
   "id": "9782735c-76d3-4b2a-bca3-83552b80c02f",
   "metadata": {},
   "outputs": [],
   "source": [
    "movies['tags'] = movies['tags'].apply(lambda x:\" \".join(x))"
   ]
  },
  {
   "cell_type": "code",
   "execution_count": null,
   "id": "16ac9005-0b7a-480b-afe7-342e69b15b6b",
   "metadata": {},
   "outputs": [],
   "source": [
    "movies.head()"
   ]
  },
  {
   "cell_type": "code",
   "execution_count": null,
   "id": "60702f8e-f5d6-425e-94d8-219c26cb3b09",
   "metadata": {},
   "outputs": [],
   "source": [
    "movies['tags'][0]"
   ]
  },
  {
   "cell_type": "code",
   "execution_count": null,
   "id": "63ab110c-d3f9-493e-857f-d78e57370b57",
   "metadata": {},
   "outputs": [],
   "source": [
    "movies['tags'] = movies['tags'].apply(lambda x:x.lower())"
   ]
  },
  {
   "cell_type": "code",
   "execution_count": null,
   "id": "8fb1b969-7839-48d4-bf78-f3e812d09ddc",
   "metadata": {},
   "outputs": [],
   "source": [
    "movies['tags'][0]"
   ]
  },
  {
   "cell_type": "code",
   "execution_count": null,
   "id": "2173614b-70bc-4d65-bd4d-1405708841fb",
   "metadata": {},
   "outputs": [],
   "source": [
    "import nltk"
   ]
  },
  {
   "cell_type": "code",
   "execution_count": null,
   "id": "bc5663d4-0c89-4559-ad9e-6a466093ef7b",
   "metadata": {},
   "outputs": [],
   "source": [
    "from nltk.stem.porter import PorterStemmer\n",
    "ps = PorterStemmer()"
   ]
  },
  {
   "cell_type": "code",
   "execution_count": null,
   "id": "3cd6ca86-11a5-4f1a-87fb-f6eb575b0200",
   "metadata": {},
   "outputs": [],
   "source": [
    "def stem(text):\n",
    "    y=[]\n",
    "    for i in text.split():\n",
    "        y.append(ps.stem(i))\n",
    "\n",
    "    return \" \".join(y)\n",
    "    "
   ]
  },
  {
   "cell_type": "code",
   "execution_count": null,
   "id": "54ebd052-6521-4eca-8d5a-f43fc816d8e5",
   "metadata": {},
   "outputs": [],
   "source": [
    "movies['tags'] = movies['tags'].apply(stem)"
   ]
  },
  {
   "cell_type": "code",
   "execution_count": null,
   "id": "666e7639-0b0c-4765-87e4-4892c20c493f",
   "metadata": {},
   "outputs": [],
   "source": [
    "from sklearn.feature_extraction.text import CountVectorizer\n",
    "cv = CountVectorizer(max_features=5000,stop_words='english')"
   ]
  },
  {
   "cell_type": "code",
   "execution_count": null,
   "id": "7d6577d2-7ce0-43ac-90a9-a37861cd02e5",
   "metadata": {},
   "outputs": [],
   "source": [
    "vectors = cv.fit_transform(movies['tags']).toarray()"
   ]
  },
  {
   "cell_type": "code",
   "execution_count": null,
   "id": "e12d8c84-5dce-4a3f-b207-84902ac86b25",
   "metadata": {},
   "outputs": [],
   "source": [
    "vectors[0]"
   ]
  },
  {
   "cell_type": "code",
   "execution_count": null,
   "id": "7dc95521-55d8-427a-99d4-b2914779dd23",
   "metadata": {},
   "outputs": [],
   "source": [
    "cv.get_feature_names_out()"
   ]
  },
  {
   "cell_type": "code",
   "execution_count": null,
   "id": "ed0bf1aa-507c-4b3c-aade-9b3f9badcd6f",
   "metadata": {},
   "outputs": [],
   "source": [
    "from sklearn.metrics.pairwise import cosine_similarity"
   ]
  },
  {
   "cell_type": "code",
   "execution_count": null,
   "id": "512ddaa6-49cb-416f-94b7-a658484e91fd",
   "metadata": {},
   "outputs": [],
   "source": [
    "similarity = cosine_similarity(vectors)"
   ]
  },
  {
   "cell_type": "code",
   "execution_count": null,
   "id": "ae303927-1906-4f1b-9532-cb30ba7634e7",
   "metadata": {},
   "outputs": [],
   "source": [
    "def recommend(movie):\n",
    "    movie_index = movies[movies['title'] == movie].index[0]\n",
    "    distances = similarity[movie_index]\n",
    "    movies_list = sorted(list(enumerate(distances)),reverse = True,key=lambda x:x[1])[1:6]\n",
    "\n",
    "    for i in movies_list:\n",
    "        print(movies.iloc[i[0]].title)\n"
   ]
  },
  {
   "cell_type": "code",
   "execution_count": null,
   "id": "cf1a53b5-9b2d-49ea-9ff3-64a47dac1818",
   "metadata": {},
   "outputs": [],
   "source": [
    "recommend('Batman Begins')"
   ]
  },
  {
   "cell_type": "code",
   "execution_count": null,
   "id": "2cd2213b-c61e-4865-9fb6-1beab5858960",
   "metadata": {},
   "outputs": [],
   "source": [
    "import pickle"
   ]
  },
  {
   "cell_type": "code",
   "execution_count": null,
   "id": "6578f7f6-366f-4cfc-b2a5-05e84d8a864b",
   "metadata": {},
   "outputs": [],
   "source": [
    "pickle.dump(movies,open('movies.pkl','wb'))"
   ]
  },
  {
   "cell_type": "code",
   "execution_count": null,
   "id": "ff087732-d08c-4650-99b9-87dccb944248",
   "metadata": {},
   "outputs": [],
   "source": [
    "pickle.dump(similarity,open('similarity.pkl','wb'))"
   ]
  },
  {
   "cell_type": "code",
   "execution_count": null,
   "id": "0c10d8be-3b8c-4db5-81c5-47501a5e3863",
   "metadata": {},
   "outputs": [],
   "source": [
    "similarity"
   ]
  },
  {
   "cell_type": "code",
   "execution_count": null,
   "id": "a97bbec0-a750-4a6e-b30b-47cba58aa396",
   "metadata": {},
   "outputs": [],
   "source": [
    "movies['title']"
   ]
  },
  {
   "cell_type": "code",
   "execution_count": null,
   "id": "51d95e26-8146-4a2a-81e9-7b06ee6a9810",
   "metadata": {},
   "outputs": [],
   "source": []
  }
 ],
 "metadata": {
  "kernelspec": {
   "display_name": "Python 3 (ipykernel)",
   "language": "python",
   "name": "python3"
  },
  "language_info": {
   "codemirror_mode": {
    "name": "ipython",
    "version": 3
   },
   "file_extension": ".py",
   "mimetype": "text/x-python",
   "name": "python",
   "nbconvert_exporter": "python",
   "pygments_lexer": "ipython3",
   "version": "3.12.4"
  }
 },
 "nbformat": 4,
 "nbformat_minor": 5
}
